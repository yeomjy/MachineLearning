{
 "cells": [
  {
   "cell_type": "code",
   "execution_count": 30,
   "id": "a90d11a6",
   "metadata": {},
   "outputs": [],
   "source": [
    "import torch\n",
    "import matplotlib.pyplot as plt\n",
    "import numpy as np\n",
    "%matplotlib inline"
   ]
  },
  {
   "cell_type": "code",
   "execution_count": 31,
   "id": "2aa6f4b6",
   "metadata": {},
   "outputs": [],
   "source": [
    "liver_iou = torch.load('./iou_0.pt')\n",
    "liver_iou = liver_iou.numpy()"
   ]
  },
  {
   "cell_type": "code",
   "execution_count": 32,
   "id": "83adf90b",
   "metadata": {},
   "outputs": [],
   "source": [
    "kidney_iou = torch.load('./iou_2.pt')\n",
    "kidney_iou = kidney_iou.numpy()"
   ]
  },
  {
   "cell_type": "code",
   "execution_count": 33,
   "id": "4f13b9e2",
   "metadata": {},
   "outputs": [],
   "source": [
    "spleen_iou = torch.load('./iou_1.pt')\n",
    "spleen_iou = spleen_iou.numpy()"
   ]
  },
  {
   "cell_type": "code",
   "execution_count": 34,
   "id": "2dfdb5d6",
   "metadata": {},
   "outputs": [
    {
     "name": "stdout",
     "output_type": "stream",
     "text": [
      "Liver iou statistics: average=0.9095735 std=0.18166427\n"
     ]
    }
   ],
   "source": [
    "average = liver_iou.mean()\n",
    "std=liver_iou.std()\n",
    "print(f'Liver iou statistics: {average=} {std=}')"
   ]
  },
  {
   "cell_type": "code",
   "execution_count": 35,
   "id": "56cebe5f",
   "metadata": {},
   "outputs": [
    {
     "data": {
      "image/png": "[encoded data removed]",
      "text/plain": [
       "<Figure size 432x288 with 1 Axes>"
      ]
     },
     "metadata": {
      "needs_background": "light"
     },
     "output_type": "display_data"
    }
   ],
   "source": [
    "plt.hist(liver_iou, bins=50)\n",
    "plt.show()"
   ]
  },
  {
   "cell_type": "code",
   "execution_count": 36,
   "id": "d6c5dc53",
   "metadata": {},
   "outputs": [
    {
     "name": "stdout",
     "output_type": "stream",
     "text": [
      "Kidney iou statistics: average=0.89865196 std=0.18129188\n"
     ]
    }
   ],
   "source": [
    "average = kidney_iou.mean()\n",
    "std=kidney_iou.std()\n",
    "print(f'Kidney iou statistics: {average=} {std=}')"
   ]
  },
  {
   "cell_type": "code",
   "execution_count": 37,
   "id": "d2efa536",
   "metadata": {},
   "outputs": [
    {
     "data": {
      "image/png": "[encoded data removed]",
      "text/plain": [
       "<Figure size 432x288 with 1 Axes>"
      ]
     },
     "metadata": {
      "needs_background": "light"
     },
     "output_type": "display_data"
    }
   ],
   "source": [
    "plt.hist(kidney_iou, bins=50)\n",
    "plt.show()"
   ]
  },
  {
   "cell_type": "code",
   "execution_count": 38,
   "id": "5dc6b187",
   "metadata": {},
   "outputs": [
    {
     "name": "stdout",
     "output_type": "stream",
     "text": [
      "Spleen iou statistics: average=0.8758764 std=0.22065747\n"
     ]
    }
   ],
   "source": [
    "average = spleen_iou.mean()\n",
    "std=spleen_iou.std()\n",
    "print(f'Spleen iou statistics: {average=} {std=}')"
   ]
  },
  {
   "cell_type": "code",
   "execution_count": 39,
   "id": "ee0c44c7",
   "metadata": {},
   "outputs": [
    {
     "data": {
      "image/png": "[encoded data removed]",
      "text/plain": [
       "<Figure size 432x288 with 1 Axes>"
      ]
     },
     "metadata": {
      "needs_background": "light"
     },
     "output_type": "display_data"
    }
   ],
   "source": [
    "plt.hist(spleen_iou, bins=50)\n",
    "plt.show()"
   ]
  },
  {
   "cell_type": "code",
   "execution_count": null,
   "id": "ed4850d0",
   "metadata": {},
   "outputs": [],
   "source": []
  }
 ],
 "metadata": {
  "kernelspec": {
   "display_name": "Python 3 (ipykernel)",
   "language": "python",
   "name": "python3"
  },
  "language_info": {
   "codemirror_mode": {
    "name": "ipython",
    "version": 3
   },
   "file_extension": ".py",
   "mimetype": "text/x-python",
   "name": "python",
   "nbconvert_exporter": "python",
   "pygments_lexer": "ipython3",
   "version": "3.8.12"
  }
 },
 "nbformat": 4,
 "nbformat_minor": 5
}
