{
 "cells": [
  {
   "cell_type": "code",
   "execution_count": 17,
   "id": "99e1ea23",
   "metadata": {},
   "outputs": [],
   "source": [
    "import numpy as np\n",
    "from scipy.stats import norm\n",
    "from scipy.stats import multivariate_normal as mnorm\n",
    "import matplotlib.pyplot as plt\n",
    "import math"
   ]
  },
  {
   "cell_type": "code",
   "execution_count": 353,
   "id": "deda9f97",
   "metadata": {},
   "outputs": [],
   "source": [
    "N=100\n",
    "train_x = np.random.random(N)\n",
    "train_x.sort()\n",
    "train_y = 4 * train_x ** 3 + 0.5 * train_x ** 2 - 3 * train_x + 2"
   ]
  },
  {
   "cell_type": "code",
   "execution_count": 354,
   "id": "ee037c81",
   "metadata": {},
   "outputs": [
    {
     "data": {
      "text/plain": [
       "[<matplotlib.lines.Line2D at 0x1e6a2c403d0>]"
      ]
     },
     "execution_count": 354,
     "metadata": {},
     "output_type": "execute_result"
    },
    {
     "data": {
      "image/png": "[encoded data removed]",
      "text/plain": [
       "<Figure size 432x288 with 1 Axes>"
      ]
     },
     "metadata": {
      "needs_background": "light"
     },
     "output_type": "display_data"
    }
   ],
   "source": [
    "plt.plot(train_x, train_y)"
   ]
  },
  {
   "cell_type": "code",
   "execution_count": 376,
   "id": "59cb0b3e",
   "metadata": {},
   "outputs": [],
   "source": [
    "M=60\n",
    "test_x =np.random.random(M)\n",
    "test_x.sort()"
   ]
  },
  {
   "cell_type": "code",
   "execution_count": 377,
   "id": "b61f6dec",
   "metadata": {},
   "outputs": [],
   "source": [
    "def kernel(x, xx):\n",
    "    return np.exp(-0.5*np.linalg.norm(x- xx)**2)"
   ]
  },
  {
   "cell_type": "code",
   "execution_count": 378,
   "id": "19f9131c",
   "metadata": {},
   "outputs": [],
   "source": [
    "Kxx = np.zeros((N, N))\n",
    "Kxx_ = np.zeros((N, M))\n",
    "Kx_x = np.zeros((M, N))\n",
    "Kx_x_ = np.zeros((M, M))"
   ]
  },
  {
   "cell_type": "code",
   "execution_count": 379,
   "id": "73226b5c",
   "metadata": {},
   "outputs": [],
   "source": [
    "for x in range(N):\n",
    "    for y in range(N):\n",
    "        Kxx[x, y] = kernel(train_x[x], train_x[y])\n",
    "        \n",
    "for x in range(N):\n",
    "    for y in range(M):\n",
    "        Kxx_[x,y] = kernel(train_x[x], test_x[y])\n",
    "    \n",
    "for x in range(M):\n",
    "    for y in range(N):\n",
    "        Kx_x[x,y] = kernel(test_x[x], train_x[y])\n",
    "        \n",
    "for x in range(M):\n",
    "    for y in range(M):\n",
    "        Kx_x_[x, y] = kernel(test_x[x], test_x[y])"
   ]
  },
  {
   "cell_type": "code",
   "execution_count": 380,
   "id": "ecbfe123",
   "metadata": {},
   "outputs": [],
   "source": [
    "mean = Kx_x @ np.linalg.inv(Kxx + 0.04 * np.eye(N)) @ train_y \n",
    "cov = Kx_x_ - Kx_x @ np.linalg.inv(Kxx + 0.04 * np.eye(N)) @ Kxx_"
   ]
  },
  {
   "cell_type": "code",
   "execution_count": 381,
   "id": "857fa204",
   "metadata": {},
   "outputs": [
    {
     "ename": "LinAlgError",
     "evalue": "singular matrix",
     "output_type": "error",
     "traceback": [
      "\u001b[1;31m---------------------------------------------------------------------------\u001b[0m",
      "\u001b[1;31mLinAlgError\u001b[0m                               Traceback (most recent call last)",
      "Input \u001b[1;32mIn [381]\u001b[0m, in \u001b[0;36m<cell line: 1>\u001b[1;34m()\u001b[0m\n\u001b[1;32m----> 1\u001b[0m test_y \u001b[38;5;241m=\u001b[39m \u001b[43mmnorm\u001b[49m\u001b[43m(\u001b[49m\u001b[43mmean\u001b[49m\u001b[38;5;241;43m=\u001b[39;49m\u001b[43mmean\u001b[49m\u001b[43m,\u001b[49m\u001b[43m \u001b[49m\u001b[43mcov\u001b[49m\u001b[38;5;241;43m=\u001b[39;49m\u001b[43mcov\u001b[49m\u001b[43m)\u001b[49m\u001b[38;5;241m.\u001b[39mrvs(\u001b[38;5;241m1\u001b[39m)\n",
      "File \u001b[1;32m~\\miniconda3\\envs\\ml\\lib\\site-packages\\scipy\\stats\\_multivariate.py:360\u001b[0m, in \u001b[0;36mmultivariate_normal_gen.__call__\u001b[1;34m(self, mean, cov, allow_singular, seed)\u001b[0m\n\u001b[0;32m    355\u001b[0m \u001b[38;5;28;01mdef\u001b[39;00m \u001b[38;5;21m__call__\u001b[39m(\u001b[38;5;28mself\u001b[39m, mean\u001b[38;5;241m=\u001b[39m\u001b[38;5;28;01mNone\u001b[39;00m, cov\u001b[38;5;241m=\u001b[39m\u001b[38;5;241m1\u001b[39m, allow_singular\u001b[38;5;241m=\u001b[39m\u001b[38;5;28;01mFalse\u001b[39;00m, seed\u001b[38;5;241m=\u001b[39m\u001b[38;5;28;01mNone\u001b[39;00m):\n\u001b[0;32m    356\u001b[0m     \u001b[38;5;124;03m\"\"\"Create a frozen multivariate normal distribution.\u001b[39;00m\n\u001b[0;32m    357\u001b[0m \n\u001b[0;32m    358\u001b[0m \u001b[38;5;124;03m    See `multivariate_normal_frozen` for more information.\u001b[39;00m\n\u001b[0;32m    359\u001b[0m \u001b[38;5;124;03m    \"\"\"\u001b[39;00m\n\u001b[1;32m--> 360\u001b[0m     \u001b[38;5;28;01mreturn\u001b[39;00m \u001b[43mmultivariate_normal_frozen\u001b[49m\u001b[43m(\u001b[49m\u001b[43mmean\u001b[49m\u001b[43m,\u001b[49m\u001b[43m \u001b[49m\u001b[43mcov\u001b[49m\u001b[43m,\u001b[49m\n\u001b[0;32m    361\u001b[0m \u001b[43m                                      \u001b[49m\u001b[43mallow_singular\u001b[49m\u001b[38;5;241;43m=\u001b[39;49m\u001b[43mallow_singular\u001b[49m\u001b[43m,\u001b[49m\n\u001b[0;32m    362\u001b[0m \u001b[43m                                      \u001b[49m\u001b[43mseed\u001b[49m\u001b[38;5;241;43m=\u001b[39;49m\u001b[43mseed\u001b[49m\u001b[43m)\u001b[49m\n",
      "File \u001b[1;32m~\\miniconda3\\envs\\ml\\lib\\site-packages\\scipy\\stats\\_multivariate.py:730\u001b[0m, in \u001b[0;36mmultivariate_normal_frozen.__init__\u001b[1;34m(self, mean, cov, allow_singular, seed, maxpts, abseps, releps)\u001b[0m\n\u001b[0;32m    727\u001b[0m \u001b[38;5;28mself\u001b[39m\u001b[38;5;241m.\u001b[39m_dist \u001b[38;5;241m=\u001b[39m multivariate_normal_gen(seed)\n\u001b[0;32m    728\u001b[0m \u001b[38;5;28mself\u001b[39m\u001b[38;5;241m.\u001b[39mdim, \u001b[38;5;28mself\u001b[39m\u001b[38;5;241m.\u001b[39mmean, \u001b[38;5;28mself\u001b[39m\u001b[38;5;241m.\u001b[39mcov \u001b[38;5;241m=\u001b[39m \u001b[38;5;28mself\u001b[39m\u001b[38;5;241m.\u001b[39m_dist\u001b[38;5;241m.\u001b[39m_process_parameters(\n\u001b[0;32m    729\u001b[0m                                                     \u001b[38;5;28;01mNone\u001b[39;00m, mean, cov)\n\u001b[1;32m--> 730\u001b[0m \u001b[38;5;28mself\u001b[39m\u001b[38;5;241m.\u001b[39mcov_info \u001b[38;5;241m=\u001b[39m \u001b[43m_PSD\u001b[49m\u001b[43m(\u001b[49m\u001b[38;5;28;43mself\u001b[39;49m\u001b[38;5;241;43m.\u001b[39;49m\u001b[43mcov\u001b[49m\u001b[43m,\u001b[49m\u001b[43m \u001b[49m\u001b[43mallow_singular\u001b[49m\u001b[38;5;241;43m=\u001b[39;49m\u001b[43mallow_singular\u001b[49m\u001b[43m)\u001b[49m\n\u001b[0;32m    731\u001b[0m \u001b[38;5;28;01mif\u001b[39;00m \u001b[38;5;129;01mnot\u001b[39;00m maxpts:\n\u001b[0;32m    732\u001b[0m     maxpts \u001b[38;5;241m=\u001b[39m \u001b[38;5;241m1000000\u001b[39m \u001b[38;5;241m*\u001b[39m \u001b[38;5;28mself\u001b[39m\u001b[38;5;241m.\u001b[39mdim\n",
      "File \u001b[1;32m~\\miniconda3\\envs\\ml\\lib\\site-packages\\scipy\\stats\\_multivariate.py:165\u001b[0m, in \u001b[0;36m_PSD.__init__\u001b[1;34m(self, M, cond, rcond, lower, check_finite, allow_singular)\u001b[0m\n\u001b[0;32m    163\u001b[0m d \u001b[38;5;241m=\u001b[39m s[s \u001b[38;5;241m>\u001b[39m eps]\n\u001b[0;32m    164\u001b[0m \u001b[38;5;28;01mif\u001b[39;00m \u001b[38;5;28mlen\u001b[39m(d) \u001b[38;5;241m<\u001b[39m \u001b[38;5;28mlen\u001b[39m(s) \u001b[38;5;129;01mand\u001b[39;00m \u001b[38;5;129;01mnot\u001b[39;00m allow_singular:\n\u001b[1;32m--> 165\u001b[0m     \u001b[38;5;28;01mraise\u001b[39;00m np\u001b[38;5;241m.\u001b[39mlinalg\u001b[38;5;241m.\u001b[39mLinAlgError(\u001b[38;5;124m'\u001b[39m\u001b[38;5;124msingular matrix\u001b[39m\u001b[38;5;124m'\u001b[39m)\n\u001b[0;32m    166\u001b[0m s_pinv \u001b[38;5;241m=\u001b[39m _pinv_1d(s, eps)\n\u001b[0;32m    167\u001b[0m U \u001b[38;5;241m=\u001b[39m np\u001b[38;5;241m.\u001b[39mmultiply(u, np\u001b[38;5;241m.\u001b[39msqrt(s_pinv))\n",
      "\u001b[1;31mLinAlgError\u001b[0m: singular matrix"
     ]
    }
   ],
   "source": [
    "test_y = mnorm(mean=mean, cov=cov).rvs(1)"
   ]
  },
  {
   "cell_type": "code",
   "execution_count": 382,
   "id": "6678060e",
   "metadata": {},
   "outputs": [
    {
     "data": {
      "text/plain": [
       "[<matplotlib.lines.Line2D at 0x1e6a2f7b8b0>]"
      ]
     },
     "execution_count": 382,
     "metadata": {},
     "output_type": "execute_result"
    },
    {
     "data": {
      "image/png": "[encoded data removed]",
      "text/plain": [
       "<Figure size 432x288 with 1 Axes>"
      ]
     },
     "metadata": {
      "needs_background": "light"
     },
     "output_type": "display_data"
    }
   ],
   "source": [
    "plt.plot(test_x, mean)\n",
    "plt.plot(train_x, train_y)"
   ]
  },
  {
   "cell_type": "code",
   "execution_count": 387,
   "id": "d0d4a2d2",
   "metadata": {},
   "outputs": [],
   "source": [
    "def f(x):\n",
    "    k = np.array([kernel(xi, x) for xi in train_x])\n",
    "    return alpha @ k"
   ]
  },
  {
   "cell_type": "code",
   "execution_count": 388,
   "id": "305f0148",
   "metadata": {},
   "outputs": [],
   "source": [
    "alpha = np.linalg.inv(Kxx + 0.04 * np.eye(N)) @ train_y"
   ]
  },
  {
   "cell_type": "code",
   "execution_count": 391,
   "id": "a2f3b56c",
   "metadata": {},
   "outputs": [],
   "source": [
    "x = np.linspace(0, 1, 50)"
   ]
  },
  {
   "cell_type": "code",
   "execution_count": 394,
   "id": "ae1629e6",
   "metadata": {},
   "outputs": [],
   "source": [
    "y = np.array([f(i) for i in x])"
   ]
  },
  {
   "cell_type": "code",
   "execution_count": 397,
   "id": "95c60cfb",
   "metadata": {},
   "outputs": [
    {
     "data": {
      "text/plain": [
       "[<matplotlib.lines.Line2D at 0x1e6a2e0e160>]"
      ]
     },
     "execution_count": 397,
     "metadata": {},
     "output_type": "execute_result"
    },
    {
     "data": {
      "image/png": "[encoded data removed]",
      "text/plain": [
       "<Figure size 432x288 with 1 Axes>"
      ]
     },
     "metadata": {
      "needs_background": "light"
     },
     "output_type": "display_data"
    }
   ],
   "source": [
    "plt.plot(x, y)\n",
    "plt.plot(train_x, train_y)"
   ]
  },
  {
   "cell_type": "code",
   "execution_count": null,
   "id": "7dd55307",
   "metadata": {},
   "outputs": [],
   "source": []
  }
 ],
 "metadata": {
  "kernelspec": {
   "display_name": "Python 3 (ipykernel)",
   "language": "python",
   "name": "python3"
  },
  "language_info": {
   "codemirror_mode": {
    "name": "ipython",
    "version": 3
   },
   "file_extension": ".py",
   "mimetype": "text/x-python",
   "name": "python",
   "nbconvert_exporter": "python",
   "pygments_lexer": "ipython3",
   "version": "3.8.13"
  }
 },
 "nbformat": 4,
 "nbformat_minor": 5
}
