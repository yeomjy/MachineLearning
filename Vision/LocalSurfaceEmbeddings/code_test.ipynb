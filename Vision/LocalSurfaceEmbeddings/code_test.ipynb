{
 "cells": [
  {
   "cell_type": "code",
   "execution_count": 40,
   "id": "8558e503",
   "metadata": {
    "pycharm": {
     "name": "#%%\n"
    }
   },
   "outputs": [],
   "source": [
    "import yaml\n",
    "import open3d as o3d\n",
    "import cv2 \n",
    "import numpy as np\n",
    "from PIL import Image\n",
    "import matplotlib.pyplot as plt\n",
    "%matplotlib inline\n",
    "import time\n",
    "from lse import compute_lse"
   ]
  },
  {
   "cell_type": "code",
   "execution_count": 19,
   "id": "6a0349bd",
   "metadata": {
    "pycharm": {
     "name": "#%%\n"
    }
   },
   "outputs": [],
   "source": [
    "with open(\"/home/yeomjy/data/t-less_v2/train_primesense/01/gt.yml\", \"r\") as f:\n",
    "    gt = yaml.load(f, Loader=yaml.FullLoader)\n",
    "with open(\"/home/yeomjy/data/t-less_v2/train_primesense/01/info.yml\", \"r\") as f:\n",
    "    info = yaml.load(f, Loader=yaml.FullLoader)"
   ]
  },
  {
   "cell_type": "code",
   "execution_count": 20,
   "id": "1f1c3e4b",
   "metadata": {
    "pycharm": {
     "name": "#%%\n"
    }
   },
   "outputs": [],
   "source": [
    "mesh = o3d.io.read_triangle_mesh(\"/home/yeomjy/data/t-less_v2/models_cad/obj_01.ply\")"
   ]
  },
  {
   "cell_type": "code",
   "execution_count": 26,
   "id": "f3de31ae",
   "metadata": {},
   "outputs": [],
   "source": [
    "idx = 887"
   ]
  },
  {
   "cell_type": "code",
   "execution_count": 35,
   "id": "01d2378d",
   "metadata": {
    "pycharm": {
     "name": "#%%\n"
    }
   },
   "outputs": [],
   "source": [
    "img = cv2.imread(f\"/home/yeomjy/data/t-less_v2/train_primesense/01/rgb/{idx:04}.png\")"
   ]
  },
  {
   "cell_type": "code",
   "execution_count": 39,
   "id": "59c3d772",
   "metadata": {},
   "outputs": [
    {
     "name": "stdout",
     "output_type": "stream",
     "text": [
      "Elapsed time: 0.9895739555358887sec\n"
     ]
    },
    {
     "data": {
      "text/plain": [
       "<matplotlib.image.AxesImage at 0x7fc3cde82070>"
      ]
     },
     "execution_count": 39,
     "metadata": {},
     "output_type": "execute_result"
    },
    {
     "data": {
      "image/png": "[encoded data removed]",
      "text/plain": [
       "<Figure size 432x288 with 1 Axes>"
      ]
     },
     "metadata": {
      "needs_background": "light"
     },
     "output_type": "display_data"
    }
   ],
   "source": [
    "start = time.time()\n",
    "R = gt[idx][0]['cam_R_m2c']\n",
    "t = gt[idx][0]['cam_t_m2c']\n",
    "K = info[idx]['cam_K']\n",
    "R = np.asarray(R).reshape((3, 3))\n",
    "K = np.asarray(K).reshape((3, 3))\n",
    "\n",
    "ext = np.zeros((4, 4))\n",
    "ext[:3, :3] = R\n",
    "ext[:3, 3] = t\n",
    "ext[3, :3] = 0\n",
    "ext[3, 3] = 1\n",
    "H, W = img.shape[0], img.shape[1]\n",
    "C = -np.linalg.inv(R) @ t\n",
    "rays = o3d.t.geometry.RaycastingScene.create_rays_pinhole(\n",
    "    o3d.core.Tensor(K),\n",
    "    o3d.core.Tensor(ext),\n",
    "    W,\n",
    "    H\n",
    ")\n",
    "\n",
    "canvas = np.zeros((H, W, 1))\n",
    "\n",
    "mesh_t = o3d.t.geometry.TriangleMesh.from_legacy(mesh)\n",
    "scene = o3d.t.geometry.RaycastingScene()\n",
    "mesh_id = scene.add_triangles(mesh_t)\n",
    "\n",
    "cast = scene.cast_rays(rays)\n",
    "\n",
    "for y in range(H):\n",
    "    for x in range(W):\n",
    "        if (np.any(img[y, x] != 0) and cast['t_hit'][y, x] < np.inf):\n",
    "            canvas[y, x] = 255\n",
    "end = time.time()\n",
    "print(f\"Elapsed time: {end - start}sec\")\n",
    "            \n",
    "plt.imshow(canvas)\n",
    "    "
   ]
  },
  {
   "cell_type": "code",
   "execution_count": null,
   "id": "c6daebb6",
   "metadata": {},
   "outputs": [],
   "source": []
  }
 ],
 "metadata": {
  "kernelspec": {
   "display_name": "Python 3 (ipykernel)",
   "language": "python",
   "name": "python3"
  },
  "language_info": {
   "codemirror_mode": {
    "name": "ipython",
    "version": 3
   },
   "file_extension": ".py",
   "mimetype": "text/x-python",
   "name": "python",
   "nbconvert_exporter": "python",
   "pygments_lexer": "ipython3",
   "version": "3.8.13"
  }
 },
 "nbformat": 4,
 "nbformat_minor": 5
}